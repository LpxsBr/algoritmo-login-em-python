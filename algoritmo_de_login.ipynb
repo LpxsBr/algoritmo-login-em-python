{
  "nbformat": 4,
  "nbformat_minor": 0,
  "metadata": {
    "colab": {
      "provenance": [],
      "collapsed_sections": [],
      "authorship_tag": "ABX9TyPchwr3Pt1aPVac5tNvhN1j",
      "include_colab_link": true
    },
    "kernelspec": {
      "name": "python3",
      "display_name": "Python 3"
    },
    "language_info": {
      "name": "python"
    }
  },
  "cells": [
    {
      "cell_type": "markdown",
      "metadata": {
        "id": "view-in-github",
        "colab_type": "text"
      },
      "source": [
        "<a href=\"https://colab.research.google.com/github/LpxsBr/algoritmo-login-em-python/blob/main/algoritmo_de_login.ipynb\" target=\"_parent\"><img src=\"https://colab.research.google.com/assets/colab-badge.svg\" alt=\"Open In Colab\"/></a>"
      ]
    },
    {
      "cell_type": "code",
      "execution_count": 3,
      "metadata": {
        "colab": {
          "base_uri": "https://localhost:8080/"
        },
        "id": "Cxpw8nRsscCx",
        "outputId": "ff8d9de5-abb3-4b10-9f39-a9c70161e4ed"
      },
      "outputs": [
        {
          "output_type": "stream",
          "name": "stdout",
          "text": [
            "Login: joao\n",
            "senha: 1356\n",
            "usuário  joao  logado\n"
          ]
        }
      ],
      "source": [
        "login = input('Login: ')\n",
        "senha = input('senha: ')\n",
        "\n",
        "dados = [\n",
        "    ['anselmo', '1234'],\n",
        "    ['jessica', '1454'],\n",
        "    ['lucas', '4235'],\n",
        "    ['maria', '7904'],\n",
        "    ['joao', '1343'],\n",
        "    ['juliana', '1346'],\n",
        "    ['joao', '1356']\n",
        "]\n",
        "\n",
        "for id in range(0, len(dados), 1):\n",
        "  \n",
        "    data = dados[id]\n",
        "\n",
        "    for user in range(0, len(data), 1):\n",
        "\n",
        "      if(data[user] == login and data[user + 1] == senha):\n",
        "\n",
        "        print('usuário ', login, ' logado')\n",
        "        \n",
        "        break"
      ]
    }
  ]
}